{
 "cells": [
  {
   "cell_type": "markdown",
   "metadata": {},
   "outputs": [],
   "source": [
    "# Advent of Code 2019\n",
    "\n",
    "This is a notebook of solutions for the [Advent of Code](http://adventofcode.com) for 2019. Each day will have a link to the problem description. Inputs are stored in the 'data' directory."
   ]
  },
  {
   "cell_type": "markdown",
   "metadata": {},
   "outputs": [],
   "source": [
    "## Helper functions"
   ]
  },
  {
   "cell_type": "code",
   "execution_count": 10,
   "metadata": {},
   "outputs": [],
   "source": [
    "import os\n",
    "import urllib.request\n",
    "\n",
    "#adapted from from norvig/pytudes repository\n",
    "def input(day, year=2019):\n",
    "    \"\"\"Open this day's input file.\"\"\"\n",
    "    directory = 'data/advent{}/'.format(year)\n",
    "    filename = directory+'day{}.txt'.format(day)\n",
    "    try:\n",
    "        return open(filename)\n",
    "    except FileNotFoundError:\n",
    "        if not os.path.exists(directory):\n",
    "            os.makedirs(directory)\n",
    "\n",
    "        urllib.request.urlretrieve(\"https://raw.githubusercontent.com/elahmo/advent-of-code/master/data/\" + filename, filename)\n",
    "        return input(day)\n",
    "\n",
    "def input_str(day, year=2019): \n",
    "    \"\"\"The contents of this day's input file as a str.\"\"\"\n",
    "    return input(day, year).read().rstrip('\\n')\n",
    "\n",
    "def input_list(day, year=2019):\n",
    "    lines = [line.rstrip('\\n') for line in input(day, year)]\n",
    "    return lines\n",
    "\n",
    "def map_tuple(fn, *args): \n",
    "    \"\"\"Do a map, and make the results into a tuple.\"\"\"\n",
    "    return tuple(map(fn, *args))"
   ]
  },
  {
   "cell_type": "markdown",
   "metadata": {},
   "outputs": [],
   "source": [
    "## [Day 1](https://adventofcode.com/2019/day/1): The Tyranny of the Rocket Equation\n",
    "The first task is to find the fuel requirements for the modules. Fuel required to launch a given module is based on its mass. Specifically, to find the fuel required for a module, take its mass, divide by three, round down, and subtract 2."
   ]
  },
  {
   "cell_type": "code",
   "execution_count": 17,
   "metadata": {},
   "outputs": [
    {
     "name": "stdout",
     "output_type": "stream",
     "text": "Total is 3454026\n"
    }
   ],
   "source": [
    "modules = input_list(1)\n",
    "total = sum([int(x)//3-2 for x in modules])\n",
    "\n",
    "print(f'Total is {total}')"
   ]
  },
  {
   "cell_type": "markdown",
   "metadata": {},
   "outputs": [],
   "source": [
    "### Part Two\n",
    "Well, the fuel for the modules is calculated, but we need fuel to transfer the fuel too. Interesting!"
   ]
  },
  {
   "cell_type": "code",
   "execution_count": 20,
   "metadata": {},
   "outputs": [
    {
     "name": "stdout",
     "output_type": "stream",
     "text": "Total is 5178170\n"
    }
   ],
   "source": [
    "def fuel_required(mass):\n",
    "    if mass < 9:\n",
    "        return 0\n",
    "    fuel = mass // 3 - 2\n",
    "    return fuel + fuel_required(fuel)\n",
    "\n",
    "modules = input_list(1)\n",
    "total = sum([fuel_required(int(x)) for x in modules])\n",
    "\n",
    "print(f'Total is {total}')"
   ]
  },
  {
   "cell_type": "markdown",
   "metadata": {},
   "outputs": [],
   "source": [
    "**Comments**:\n",
    "- good warmup problem, first one is quite simple but it did require me to recall the integer division in Python3, math.floor is an alternative to `//`"
   ]
  },
  {
   "cell_type": "code",
   "execution_count": null,
   "metadata": {},
   "outputs": [],
   "source": []
  }
 ],
 "metadata": {
  "kernelspec": {
   "display_name": "Python 3",
   "language": "python",
   "name": "python3"
  },
  "language_info": {
   "codemirror_mode": {
    "name": "ipython",
    "version": 3
   },
   "file_extension": ".py",
   "mimetype": "text/x-python",
   "name": "python",
   "nbconvert_exporter": "python",
   "pygments_lexer": "ipython3",
   "version": "3.7.4"
  }
 },
 "nbformat": 4,
 "nbformat_minor": 2
}