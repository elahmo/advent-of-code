{
 "cells": [
  {
   "cell_type": "markdown",
   "metadata": {},
   "outputs": [],
   "source": [
    "# Advent of Code 2019\n",
    "\n",
    "This is a notebook of solutions for the [Advent of Code](http://adventofcode.com) for 2019. Each day will have a link to the problem description. Inputs are stored in the 'data' directory."
   ]
  },
  {
   "cell_type": "markdown",
   "metadata": {},
   "outputs": [],
   "source": [
    "## Helper functions"
   ]
  },
  {
   "cell_type": "code",
   "execution_count": 1,
   "metadata": {},
   "outputs": [],
   "source": [
    "import os\n",
    "import urllib.request\n",
    "\n",
    "#adapted from from norvig/pytudes repository\n",
    "def input(day, year=2019):\n",
    "    \"\"\"Open this day's input file.\"\"\"\n",
    "    directory = 'data/advent{}/'.format(year)\n",
    "    filename = directory+'day{}.txt'.format(day)\n",
    "    try:\n",
    "        return open(filename)\n",
    "    except FileNotFoundError:\n",
    "        if not os.path.exists(directory):\n",
    "            os.makedirs(directory)\n",
    "\n",
    "        urllib.request.urlretrieve(\"https://raw.githubusercontent.com/elahmo/advent-of-code/master/data/\" + filename, filename)\n",
    "        return input(day)\n",
    "\n",
    "def input_str(day, year=2019): \n",
    "    \"\"\"The contents of this day's input file as a str.\"\"\"\n",
    "    return input(day, year).read().rstrip('\\n')\n",
    "\n",
    "def input_list(day, year=2019):\n",
    "    lines = [line.rstrip('\\n') for line in input(day, year)]\n",
    "    return lines\n",
    "\n",
    "def input_csv(day, year=2019):\n",
    "    return [line.split(',') for line in input(day, year)]\n",
    "\n",
    "def map_tuple(fn, *args): \n",
    "    \"\"\"Do a map, and make the results into a tuple.\"\"\"\n",
    "    return tuple(map(fn, *args))"
   ]
  },
  {
   "cell_type": "markdown",
   "metadata": {},
   "outputs": [],
   "source": [
    "## [Day 1](https://adventofcode.com/2019/day/1): The Tyranny of the Rocket Equation\n",
    "The first task is to find the fuel requirements for the modules. Fuel required to launch a given module is based on its mass. Specifically, to find the fuel required for a module, take its mass, divide by three, round down, and subtract 2."
   ]
  },
  {
   "cell_type": "code",
   "execution_count": 2,
   "metadata": {},
   "outputs": [
    {
     "name": "stdout",
     "output_type": "stream",
     "text": "Total is 3454026\n"
    }
   ],
   "source": [
    "modules = input_list(1)\n",
    "total = sum([int(x)//3-2 for x in modules])\n",
    "\n",
    "print(f'Total is {total}')"
   ]
  },
  {
   "cell_type": "markdown",
   "metadata": {},
   "outputs": [],
   "source": [
    "### Part Two\n",
    "Well, the fuel for the modules is calculated, but we need fuel to transfer the fuel too. Interesting!"
   ]
  },
  {
   "cell_type": "code",
   "execution_count": 3,
   "metadata": {},
   "outputs": [
    {
     "name": "stdout",
     "output_type": "stream",
     "text": "Total is 5178170\n"
    }
   ],
   "source": [
    "def fuel_required(mass):\n",
    "    if mass < 9:\n",
    "        return 0\n",
    "    fuel = mass // 3 - 2\n",
    "    return fuel + fuel_required(fuel)\n",
    "\n",
    "modules = input_list(1)\n",
    "total = sum([fuel_required(int(x)) for x in modules])\n",
    "\n",
    "print(f'Total is {total}')"
   ]
  },
  {
   "cell_type": "markdown",
   "metadata": {},
   "outputs": [],
   "source": [
    "**Comments**:\n",
    "- good warmup problem, first one is quite simple but it did require me to recall the integer division in Python3, math.floor is an alternative to `//`"
   ]
  },
  {
   "cell_type": "markdown",
   "execution_count": null,
   "metadata": {},
   "outputs": [],
   "source": [
    "## [Day 2](https://adventofcode.com/2019/day/2): 1202 Program Alarm\n",
    "Today's task is to write a code for a new computer that will be able to parse instructions and perform calculations for gravitation assistance needs. Interesting! \n",
    "\n",
    "Instructions are in form of opcode (1 adds, 2 multiplies, 99 error), where addition and multiplication operate on values specified in the next two values."
   ]
  },
  {
   "cell_type": "code",
   "execution_count": 21,
   "metadata": {},
   "outputs": [
    {
     "data": {
      "text/plain": "[1,\n 0,\n 0,\n 3,\n 1,\n 1,\n 2,\n 3,\n 1,\n 3,\n 4,\n 3,\n 1,\n 5,\n 0,\n 3,\n 2,\n 10,\n 1,\n 19,\n 2,\n 9,\n 19,\n 23,\n 2,\n 13,\n 23,\n 27,\n 1,\n 6,\n 27,\n 31,\n 2,\n 6,\n 31,\n 35,\n 2,\n 13,\n 35,\n 39,\n 1,\n 39,\n 10,\n 43,\n 2,\n 43,\n 13,\n 47,\n 1,\n 9,\n 47,\n 51,\n 1,\n 51,\n 13,\n 55,\n 1,\n 55,\n 13,\n 59,\n 2,\n 59,\n 13,\n 63,\n 1,\n 63,\n 6,\n 67,\n 2,\n 6,\n 67,\n 71,\n 1,\n 5,\n 71,\n 75,\n 2,\n 6,\n 75,\n 79,\n 1,\n 5,\n 79,\n 83,\n 2,\n 83,\n 6,\n 87,\n 1,\n 5,\n 87,\n 91,\n 1,\n 6,\n 91,\n 95,\n 2,\n 95,\n 6,\n 99,\n 1,\n 5,\n 99,\n 103,\n 1,\n 6,\n 103,\n 107,\n 1,\n 107,\n 2,\n 111,\n 1,\n 111,\n 5,\n 0,\n 99,\n 2,\n 14,\n 0,\n 0]"
     },
     "execution_count": 21,
     "metadata": {},
     "output_type": "execute_result"
    }
   ],
   "source": [
    "op_codes = [int(x) for x in input_csv(2)[0]]\n",
    "op_codes"
   ]
  },
  {
   "cell_type": "code",
   "execution_count": 32,
   "metadata": {},
   "outputs": [
    {
     "data": {
      "text/plain": "2890696"
     },
     "execution_count": 32,
     "metadata": {},
     "output_type": "execute_result"
    }
   ],
   "source": [
    "op_codes = [int(x) for x in input_csv(2)[0]]\n",
    "op_codes[1] = 12\n",
    "op_codes[2] = 2\n",
    "def run_instructions(op_codes):\n",
    "    idx = 0\n",
    "    while True:\n",
    "        op, a, b, res = op_codes[idx:idx+4]\n",
    "        if op == 1:\n",
    "            op_codes[res] = op_codes[a] + op_codes[b]\n",
    "        elif op == 2:\n",
    "            op_codes[res] = op_codes[a] * op_codes[b]\n",
    "        elif op == 99:\n",
    "            break\n",
    "        idx += 4\n",
    "    return op_codes[0]\n",
    "run_instructions(op_codes)"
   ]
  },
  {
   "cell_type": "markdown",
   "execution_count": 29,
   "metadata": {},
   "outputs": [],
   "source": [
    "### Part Two"
   ]
  },
  {
   "cell_type": "code",
   "execution_count": 47,
   "metadata": {},
   "outputs": [
    {
     "name": "stdout",
     "output_type": "stream",
     "text": "82 26\n"
    }
   ],
   "source": [
    "memory = [int(x) for x in input_csv(2)[0]]\n",
    "for x in range(0,100):\n",
    "    for y in range(0,100):\n",
    "        ops = memory.copy()\n",
    "        ops[1] = x\n",
    "        ops[2] = y\n",
    "        if run_instructions(ops) == 19690720:\n",
    "            print(x,y)"
   ]
  }
 ],
 "metadata": {
  "kernelspec": {
   "display_name": "Python 3",
   "language": "python",
   "name": "python3"
  },
  "language_info": {
   "codemirror_mode": {
    "name": "ipython",
    "version": 3
   },
   "file_extension": ".py",
   "mimetype": "text/x-python",
   "name": "python",
   "nbconvert_exporter": "python",
   "pygments_lexer": "ipython3",
   "version": "3.7.4"
  }
 },
 "nbformat": 4,
 "nbformat_minor": 2
}