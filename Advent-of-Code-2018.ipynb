{
 "cells": [
  {
   "cell_type": "markdown",
   "metadata": {},
   "source": [
    "# Advent of Code 2018\n",
    "\n",
    "This is a notebook of solutions for the [Advent of Code](http://adventofcode.com) for 2018. Each day will have a link to the problem description. Inputs are stored in the 'data' directory."
   ]
  },
  {
   "cell_type": "markdown",
   "metadata": {},
   "source": [
    "## Helper functions"
   ]
  },
  {
   "cell_type": "code",
   "execution_count": 3,
   "metadata": {},
   "outputs": [],
   "source": [
    "import os\n",
    "import urllib.request\n",
    "\n",
    "#adapted from from norvig/pytudes repository\n",
    "def Input(day, year=2018):\n",
    "    \"Open this day's input file.\"\n",
    "    directory = 'data/advent{}/'.format(year)\n",
    "    filename = directory+'day{}.txt'.format(day)\n",
    "    try:\n",
    "        return open(filename)\n",
    "    except FileNotFoundError:\n",
    "        if not os.path.exists(directory):\n",
    "            os.makedirs(directory)\n",
    "\n",
    "        urllib.request.urlretrieve(\"https://raw.githubusercontent.com/elahmo/advent-of-code/master/data/\" + filename, filename)\n",
    "        return Input(day)\n",
    "\n",
    "def Inputstr(day, year=2018): \n",
    "    \"The contents of this day's input file as a str.\"\n",
    "    return Input(day, year).read().rstrip('\\n')\n",
    "\n",
    "def Inputlist(day, year=2018):\n",
    "    lines = [line.rstrip('\\n') for line in Input(day, year)]\n",
    "    return lines\n",
    "\n",
    "def mapt(fn, *args): \n",
    "    \"Do a map, and make the results into a tuple.\"\n",
    "    return tuple(map(fn, *args))"
   ]
  },
  {
   "cell_type": "markdown",
   "metadata": {},
   "source": [
    "## [Day 1](https://adventofcode.com/2018/day/1): Chronal Calibration\n",
    "Task is to find the resulting frequency after applying all the changes."
   ]
  },
  {
   "cell_type": "code",
   "execution_count": 4,
   "metadata": {},
   "outputs": [],
   "source": [
    "offsets = Inputlist(1)\n",
    "total = sum([int(x) for x in offsets])"
   ]
  },
  {
   "cell_type": "code",
   "execution_count": 5,
   "metadata": {},
   "outputs": [
    {
     "data": {
      "text/plain": [
       "435"
      ]
     },
     "execution_count": 5,
     "metadata": {},
     "output_type": "execute_result"
    }
   ],
   "source": [
    "total"
   ]
  },
  {
   "cell_type": "markdown",
   "metadata": {},
   "source": [
    "### Part Two\n",
    "It seems the changes are repetitive, the task is to find the frequency that first appears for the second time."
   ]
  },
  {
   "cell_type": "code",
   "execution_count": 6,
   "metadata": {},
   "outputs": [
    {
     "name": "stdout",
     "output_type": "stream",
     "text": [
      "Final result: 245\n"
     ]
    }
   ],
   "source": [
    "frequency_list = {0} #store the reached frequencies\n",
    "offsets = Inputlist(1) #parse the input\n",
    "current_frequency = 0  #start at 0\n",
    "looping = True\n",
    "counter = 0\n",
    "while looping:\n",
    "    counter+=1\n",
    "    for offset in offsets:\n",
    "        current_frequency += int(offset)\n",
    "        if current_frequency not in frequency_list:\n",
    "            frequency_list.add(current_frequency)\n",
    "        else:\n",
    "            looping = False\n",
    "            break\n",
    "print('Final result:',current_frequency)"
   ]
  },
  {
   "cell_type": "markdown",
   "metadata": {},
   "source": [
    "**Comments**:\n",
    "- **first part** was fairly easy, a simple sum in the list worked really well, using list compehensions for added beauty\n",
    "- **second part** was a bit confusing at first, since the code seem to be stuck in an infinite loop\n",
    "- the problem was that I used list in the beginning, which had quite slow lookup times and the large number of iterations took too long. Changing to set made things work super quick!"
   ]
  },
  {
   "cell_type": "markdown",
   "metadata": {},
   "source": [
    "## [Day 2](https://adventofcode.com/2018/day/2): Inventory Management System\n",
    "Task is to find the checksum, by multipling occurences of words that have two and three of any character only."
   ]
  },
  {
   "cell_type": "code",
   "execution_count": 25,
   "metadata": {},
   "outputs": [
    {
     "data": {
      "text/plain": [
       "8296"
      ]
     },
     "execution_count": 25,
     "metadata": {},
     "output_type": "execute_result"
    }
   ],
   "source": [
    "from collections import Counter\n",
    "\n",
    "words = Inputlist(2)\n",
    "#words = ['abcdef', 'bababc', 'abbcde', 'abcccd', 'aabcdd', 'abcdee', 'ababab'] #example scenario\n",
    "two_letter = 0\n",
    "three_letter = 0\n",
    "for word in words:\n",
    "    repetitions = set(v for k,v in Counter(word).items() if v == 2 or v == 3)\n",
    "    if 2 in repetitions:\n",
    "        two_letter += 1\n",
    "    if 3 in repetitions:\n",
    "        three_letter += 1\n",
    "two_letter*three_letter"
   ]
  },
  {
   "cell_type": "markdown",
   "metadata": {},
   "source": [
    "### Part Two\n",
    "Now, we should find the boxes that differ by fewest amount of characters, and find the common chars that appear in both."
   ]
  },
  {
   "cell_type": "code",
   "execution_count": 55,
   "metadata": {},
   "outputs": [],
   "source": [
    "from difflib import get_close_matches, SequenceMatcher\n",
    "closest_pair = {'ratio':0, 'words':[]}\n",
    "for word in words:\n",
    "    match = SequenceMatcher()\n",
    "    match.set_seqs(word, get_close_matches(word, words, 2)[1])\n",
    "    if match.ratio() > closest_pair['ratio']:\n",
    "        closest_pair['ratio'] = match.ratio()\n",
    "        closest_pair['words'] = [word, get_close_matches(word, words, 2)[1]]"
   ]
  },
  {
   "cell_type": "code",
   "execution_count": 56,
   "metadata": {},
   "outputs": [],
   "source": [
    "common_chars = ''\n",
    "for a,b in zip(*closest_pair['words']):\n",
    "    if a == b: common_chars+=a"
   ]
  },
  {
   "cell_type": "code",
   "execution_count": 57,
   "metadata": {},
   "outputs": [
    {
     "data": {
      "text/plain": [
       "'pazvmqbftrbeosiecxlghkwud'"
      ]
     },
     "execution_count": 57,
     "metadata": {},
     "output_type": "execute_result"
    }
   ],
   "source": [
    "common_chars"
   ]
  },
  {
   "cell_type": "markdown",
   "metadata": {},
   "source": [
    "**Comments:**\n",
    "- I feel this one is a bit harder than the first day, which makes sense, but the jump in complexity makes me fear the days to come!\n",
    "- **first part** was fairly easy, thanks to the Counter library and smart usage of set which eliminates duplicates\n",
    "- **second part** again was harder than the first, a bit confusing at first so I would definitely work on making instructions clearer\n",
    "- I used the similar internal library to compare two words, I might try to rewrite this without any libraries but this was made specifically for this purpose and its relatively well performant"
   ]
  },
  {
   "cell_type": "code",
   "execution_count": null,
   "metadata": {},
   "outputs": [],
   "source": []
  }
 ],
 "metadata": {
  "kernelspec": {
   "display_name": "Python 3",
   "language": "python",
   "name": "python3"
  },
  "language_info": {
   "codemirror_mode": {
    "name": "ipython",
    "version": 3
   },
   "file_extension": ".py",
   "mimetype": "text/x-python",
   "name": "python",
   "nbconvert_exporter": "python",
   "pygments_lexer": "ipython3",
   "version": "3.6.4"
  }
 },
 "nbformat": 4,
 "nbformat_minor": 2
}
