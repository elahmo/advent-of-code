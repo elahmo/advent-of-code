{
 "cells": [
  {
   "cell_type": "markdown",
   "metadata": {},
   "source": [
    "# Advent of Code 2018\n",
    "\n",
    "This is a notebook of solutions for the [Advent of Code](http://adventofcode.com) for 2018. Each day will have a link to the problem description. Inputs are stored in the 'data' directory."
   ]
  },
  {
   "cell_type": "markdown",
   "metadata": {},
   "source": [
    "## Helper functions"
   ]
  },
  {
   "cell_type": "code",
   "execution_count": 3,
   "metadata": {},
   "outputs": [],
   "source": [
    "import os\n",
    "import urllib.request\n",
    "\n",
    "#adapted from from norvig/pytudes repository\n",
    "def Input(day, year=2018):\n",
    "    \"Open this day's input file.\"\n",
    "    directory = 'data/advent{}/'.format(year)\n",
    "    filename = directory+'day{}.txt'.format(day)\n",
    "    try:\n",
    "        return open(filename)\n",
    "    except FileNotFoundError:\n",
    "        if not os.path.exists(directory):\n",
    "            os.makedirs(directory)\n",
    "\n",
    "        urllib.request.urlretrieve(\"https://raw.githubusercontent.com/elahmo/advent-of-code/master/data/\" + filename, filename)\n",
    "        return Input(day)\n",
    "\n",
    "def Inputstr(day, year=2018): \n",
    "    \"The contents of this day's input file as a str.\"\n",
    "    return Input(day, year).read().rstrip('\\n')\n",
    "\n",
    "def Inputlist(day, year=2018):\n",
    "    lines = [line.rstrip('\\n') for line in Input(day, year)]\n",
    "    return lines\n",
    "\n",
    "def mapt(fn, *args): \n",
    "    \"Do a map, and make the results into a tuple.\"\n",
    "    return tuple(map(fn, *args))"
   ]
  },
  {
   "cell_type": "markdown",
   "metadata": {},
   "source": [
    "## [Day 1](https://adventofcode.com/2018/day/1): Chronal Calibration\n",
    "Task is to find the resulting frequency after applying all the changes."
   ]
  },
  {
   "cell_type": "code",
   "execution_count": 4,
   "metadata": {},
   "outputs": [],
   "source": [
    "offsets = Inputlist(1)\n",
    "total = sum([int(x) for x in offsets])"
   ]
  },
  {
   "cell_type": "code",
   "execution_count": 5,
   "metadata": {},
   "outputs": [
    {
     "data": {
      "text/plain": [
       "435"
      ]
     },
     "execution_count": 5,
     "metadata": {},
     "output_type": "execute_result"
    }
   ],
   "source": [
    "total"
   ]
  },
  {
   "cell_type": "markdown",
   "metadata": {},
   "source": [
    "### Part Two\n",
    "It seems the changes are repetitive, the task is to find the frequency that first appears for the second time."
   ]
  },
  {
   "cell_type": "code",
   "execution_count": 6,
   "metadata": {},
   "outputs": [
    {
     "name": "stdout",
     "output_type": "stream",
     "text": [
      "Final result: 245\n"
     ]
    }
   ],
   "source": [
    "frequency_list = {0} #store the reached frequencies\n",
    "offsets = Inputlist(1) #parse the input\n",
    "current_frequency = 0  #start at 0\n",
    "looping = True\n",
    "counter = 0\n",
    "while looping:\n",
    "    counter+=1\n",
    "    for offset in offsets:\n",
    "        current_frequency += int(offset)\n",
    "        if current_frequency not in frequency_list:\n",
    "            frequency_list.add(current_frequency)\n",
    "        else:\n",
    "            looping = False\n",
    "            break\n",
    "print('Final result:',current_frequency)"
   ]
  },
  {
   "cell_type": "markdown",
   "metadata": {},
   "source": [
    "**Comments**:\n",
    "- **first part** was fairly easy, a simple sum in the list worked really well, using list compehensions for added beauty\n",
    "- **second part** was a bit confusing at first, since the code seem to be stuck in an infinite loop\n",
    "- the problem was that I used list in the beginning, which had quite slow lookup times and the large number of iterations took too long. Changing to set made things work super quick!"
   ]
  },
  {
   "cell_type": "markdown",
   "metadata": {},
   "source": [
    "## [Day 2](https://adventofcode.com/2018/day/2): Inventory Management System\n",
    "Task is to find the checksum, by multipling occurences of words that have two and three of any character only."
   ]
  },
  {
   "cell_type": "code",
   "execution_count": 25,
   "metadata": {},
   "outputs": [
    {
     "data": {
      "text/plain": [
       "8296"
      ]
     },
     "execution_count": 25,
     "metadata": {},
     "output_type": "execute_result"
    }
   ],
   "source": [
    "from collections import Counter\n",
    "\n",
    "words = Inputlist(2)\n",
    "#words = ['abcdef', 'bababc', 'abbcde', 'abcccd', 'aabcdd', 'abcdee', 'ababab'] #example scenario\n",
    "two_letter = 0\n",
    "three_letter = 0\n",
    "for word in words:\n",
    "    repetitions = set(v for k,v in Counter(word).items() if v == 2 or v == 3)\n",
    "    if 2 in repetitions:\n",
    "        two_letter += 1\n",
    "    if 3 in repetitions:\n",
    "        three_letter += 1\n",
    "two_letter*three_letter"
   ]
  },
  {
   "cell_type": "markdown",
   "metadata": {},
   "source": [
    "### Part Two\n",
    "Now, we should find the boxes that differ by fewest amount of characters, and find the common chars that appear in both."
   ]
  },
  {
   "cell_type": "code",
   "execution_count": 55,
   "metadata": {},
   "outputs": [],
   "source": [
    "from difflib import get_close_matches, SequenceMatcher\n",
    "closest_pair = {'ratio':0, 'words':[]}\n",
    "for word in words:\n",
    "    match = SequenceMatcher()\n",
    "    match.set_seqs(word, get_close_matches(word, words, 2)[1])\n",
    "    if match.ratio() > closest_pair['ratio']:\n",
    "        closest_pair['ratio'] = match.ratio()\n",
    "        closest_pair['words'] = [word, get_close_matches(word, words, 2)[1]]"
   ]
  },
  {
   "cell_type": "code",
   "execution_count": 56,
   "metadata": {},
   "outputs": [],
   "source": [
    "common_chars = ''\n",
    "for a,b in zip(*closest_pair['words']):\n",
    "    if a == b: common_chars+=a"
   ]
  },
  {
   "cell_type": "code",
   "execution_count": 57,
   "metadata": {},
   "outputs": [
    {
     "data": {
      "text/plain": [
       "'pazvmqbftrbeosiecxlghkwud'"
      ]
     },
     "execution_count": 57,
     "metadata": {},
     "output_type": "execute_result"
    }
   ],
   "source": [
    "common_chars"
   ]
  },
  {
   "cell_type": "markdown",
   "metadata": {},
   "source": [
    "**Comments:**\n",
    "- I feel this one is a bit harder than the first day, which makes sense, but the jump in complexity makes me fear the days to come!\n",
    "- **first part** was fairly easy, thanks to the Counter library and smart usage of set which eliminates duplicates\n",
    "- **second part** again was harder than the first, a bit confusing at first so I would definitely work on making instructions clearer\n",
    "- I used the similar internal library to compare two words, I might try to rewrite this without any libraries but this was made specifically for this purpose and its relatively well performant\n",
    "- I really liked the usage of *zip* and *args here to expand the elements when counting the common chars, this is some of the beauties of python"
   ]
  },
  {
   "cell_type": "markdown",
   "metadata": {},
   "source": [
    "## [Day 3](https://adventofcode.com/2018/day/3): No Matter How You Slice It\n",
    "Find squares that have been claimed by multiple Elves."
   ]
  },
  {
   "cell_type": "code",
   "execution_count": 151,
   "metadata": {},
   "outputs": [],
   "source": [
    "import re\n",
    "\n",
    "claims = Inputlist(3)\n",
    "claims_test = ['#1 @ 1,3: 4x4', '#2 @ 3,1: 4x4', '#3 @ 5,5: 2x2'] #test scenario, should give 4 as a result\n",
    "cloth_map = [[0] * 1000 for i in range(1000)] #this could be improved to take the largest value in the input\n",
    "for claim in claims:\n",
    "    _, x, y, width, height = [int(s) for s in re.findall(r'-?\\d+\\.?\\d*', claim)]\n",
    "    for w in range(width):\n",
    "        for h in range(height):\n",
    "            cloth_map[y+h][x+w]+=1"
   ]
  },
  {
   "cell_type": "code",
   "execution_count": 152,
   "metadata": {},
   "outputs": [
    {
     "data": {
      "text/plain": [
       "Counter({0: 648164,\n",
       "         1: 234916,\n",
       "         2: 88270,\n",
       "         3: 21877,\n",
       "         4: 5007,\n",
       "         5: 1340,\n",
       "         6: 368,\n",
       "         7: 58})"
      ]
     },
     "execution_count": 152,
     "metadata": {},
     "output_type": "execute_result"
    }
   ],
   "source": [
    "from collections import Counter\n",
    "from itertools import chain\n",
    "count_claims = Counter(chain(*cloth_map))\n",
    "count_claims"
   ]
  },
  {
   "cell_type": "code",
   "execution_count": 153,
   "metadata": {},
   "outputs": [
    {
     "name": "stdout",
     "output_type": "stream",
     "text": [
      "Total: 116920\n"
     ]
    }
   ],
   "source": [
    "print('Total:', sum([v for k,v in count_claims.items() if k >= 2]))"
   ]
  },
  {
   "cell_type": "markdown",
   "metadata": {},
   "source": [
    "### Part Two\n",
    "A portion of cloth that has no claims at all should be found. Hmmm..."
   ]
  },
  {
   "cell_type": "code",
   "execution_count": 144,
   "metadata": {},
   "outputs": [],
   "source": [
    "cloth_map = [[0] * 1000 for i in range(1000)]\n",
    "individual_areas = {}\n",
    "for claim in claims:\n",
    "    cloth_id, x, y, width, height = [int(s) for s in re.findall(r'-?\\d+\\.?\\d*', claim)]\n",
    "    individual_areas[cloth_id] = width * height\n",
    "    for w in range(width):\n",
    "        for h in range(height):\n",
    "            if cloth_map[y+h][x+w] == 0:\n",
    "                cloth_map[y+h][x+w] = cloth_id\n",
    "            else:\n",
    "                cloth_map[y+h][x+w] = -1"
   ]
  },
  {
   "cell_type": "code",
   "execution_count": 146,
   "metadata": {},
   "outputs": [],
   "source": [
    "from collections import Counter\n",
    "from itertools import chain\n",
    "count_claims = Counter(chain(*cloth_map))"
   ]
  },
  {
   "cell_type": "code",
   "execution_count": 150,
   "metadata": {},
   "outputs": [
    {
     "name": "stdout",
     "output_type": "stream",
     "text": [
      "Bingo: 382\n"
     ]
    }
   ],
   "source": [
    "for claim_id, area in count_claims.items():\n",
    "    if area == individual_areas.get(claim_id):\n",
    "        print('Bingo:', claim_id)"
   ]
  },
  {
   "cell_type": "markdown",
   "metadata": {},
   "source": [
    "**Comments:**\n",
    "- I am usually not a fan of 2D arrays, or list of lists. \n",
    "- This problem was fun, I did it easier than expect. I used my new learned knowledge to solve **part one**, by just incrementing how many claims are made for each tile, and the sum all tiles that have 2 or more claims.\n",
    "- **part two** wasn't hard either. I first thought it might be expensive to do all of the things, since a title might be complete at the insertion time, but something might overwrite it later (most likely).\n",
    "- A fairly simple solution is here, just comparing the individual area with the resulting area, again relying on the Counter from stdlib\n",
    "- I am becoming a fan of 2D arrays!"
   ]
  },
  {
   "cell_type": "markdown",
   "metadata": {},
   "source": [
    "## [Day 4](https://adventofcode.com/2018/day/4): Repose Record\n",
    "Find which guard is sleeping the most, and what minute he most spent sleeping."
   ]
  },
  {
   "cell_type": "code",
   "execution_count": 317,
   "metadata": {},
   "outputs": [],
   "source": [
    "from datetime import datetime, timedelta\n",
    "import re\n",
    "\n",
    "schedule = Inputlist(4)\n",
    "schedule.sort(key=lambda date: datetime.strptime(date[1:17], \"%Y-%m-%d %H:%M\"))\n",
    "#schedule"
   ]
  },
  {
   "cell_type": "code",
   "execution_count": 297,
   "metadata": {},
   "outputs": [],
   "source": [
    "def time_diff(guard_id, event):\n",
    "    time_delta = ptime(event) - guards[guard_id]['time']\n",
    "    return time_delta\n",
    "\n",
    "def ptime(event):\n",
    "    return datetime.strptime(event[1:17], \"%Y-%m-%d %H:%M\")\n",
    "\n",
    "def sl_time(guard_id, event):\n",
    "    return int(guards[guard_id]['time'].strftime('%M')), int(ptime(event).strftime('%M'))\n",
    "\n",
    "guards = {}\n",
    "for event in schedule:\n",
    "    #go through each event\n",
    "    #create a new guard, or update the current shift time\n",
    "    if '#' in event:\n",
    "        guard_id = re.findall('#(\\d+)', event)[0]\n",
    "        guards[guard_id] = guards.get(guard_id, {'sleeping_times':[]})\n",
    "        guards[guard_id]['sleeping'] = guards[guard_id].get('sleeping', timedelta())\n",
    "    else:\n",
    "        #if taking a short nap, update time of nap\n",
    "        if 'falls asleep' in event:\n",
    "            guards[guard_id]['time'] = ptime(event)\n",
    "        #if wakes up, calculate time slept\n",
    "        if 'wakes up' in event:\n",
    "            guards[guard_id]['sleeping'] += time_diff(guard_id, event)\n",
    "            guards[guard_id]['sleeping_times'].append(sl_time(guard_id, event))"
   ]
  },
  {
   "cell_type": "code",
   "execution_count": 305,
   "metadata": {
    "scrolled": true
   },
   "outputs": [],
   "source": [
    "#guards"
   ]
  },
  {
   "cell_type": "code",
   "execution_count": 299,
   "metadata": {},
   "outputs": [
    {
     "data": {
      "text/plain": [
       "'73'"
      ]
     },
     "execution_count": 299,
     "metadata": {},
     "output_type": "execute_result"
    }
   ],
   "source": [
    "#find the guard with most minutes slept\n",
    "sleepiest_guard = max(guards, key=lambda v: guards[v]['sleeping'])\n",
    "sleepiest_guard"
   ]
  },
  {
   "cell_type": "code",
   "execution_count": 300,
   "metadata": {},
   "outputs": [
    {
     "data": {
      "text/plain": [
       "(44, 14)"
      ]
     },
     "execution_count": 300,
     "metadata": {},
     "output_type": "execute_result"
    }
   ],
   "source": [
    "#find the minutes that are hit the most\n",
    "minutes_during_shift = [0 for x in range(1,61)]\n",
    "for a,b in guards[sleepiest_guard]['sleeping_times']:\n",
    "    for i in range(a,b):\n",
    "        minutes_during_shift[i] += 1\n",
    "max_index, max_value = max(enumerate(minutes_during_shift), key=lambda p: p[1])\n",
    "max_index, max_value"
   ]
  },
  {
   "cell_type": "markdown",
   "metadata": {},
   "source": [
    "### Part Two\n",
    "Find wich guard most slept on a given minute in an hour."
   ]
  },
  {
   "cell_type": "code",
   "execution_count": 312,
   "metadata": {
    "scrolled": true
   },
   "outputs": [],
   "source": [
    "#find the minutes that are hit the most, but for all guards\n",
    "minutes_during_shift = {guard:[0 for x in range(1,61)] for guard in guards.keys()}\n",
    "for guard,values in guards.items():\n",
    "    for a, b in values['sleeping_times']:\n",
    "        for i in range(a,b):\n",
    "            minutes_during_shift[guard][i] += 1"
   ]
  },
  {
   "cell_type": "code",
   "execution_count": 316,
   "metadata": {},
   "outputs": [
    {
     "data": {
      "text/plain": [
       "(26, '191', 17)"
      ]
     },
     "execution_count": 316,
     "metadata": {},
     "output_type": "execute_result"
    }
   ],
   "source": [
    "max_index, max_guard, max_value = 0, None, 0\n",
    "for guard, minutes in minutes_during_shift.items():\n",
    "    max_index_guard, max_value_guard = max(enumerate(minutes), key=lambda p: p[1])\n",
    "    if max_value_guard > max_value:\n",
    "        max_index = max_index_guard\n",
    "        max_value = max_value_guard\n",
    "        max_guard = guard\n",
    "max_index, max_guard, max_value"
   ]
  },
  {
   "cell_type": "markdown",
   "metadata": {},
   "source": [
    "**Comments:**\n",
    "- Well, this was super messy. I wont do these things anymore at 11pm.\n",
    "- Overall, it doesnt seem that complex, but it is rather tedious with all datetime things.\n",
    "- **part one** seemed quite OK, I just calculated the times someone was sleeping, and added those minutes without hour to another key in dictionary\n",
    "- It took a bit of experimentation to get the max value from dict of dicts, but overall it was easy to get the sleepiest guard, and then for that guard just check his (or her) sleeping pattern and find which minutes were slept the most\n",
    "- **part two** was far easier than in previous problems, at least it took far less time compared to the first part. I simply did the same thing as in the last stretch of part one when looking which minute was most slept, and generalised a bit and found needed guard and the minute"
   ]
  },
  {
   "cell_type": "code",
   "execution_count": null,
   "metadata": {},
   "outputs": [],
   "source": []
  }
 ],
 "metadata": {
  "kernelspec": {
   "display_name": "Python 3",
   "language": "python",
   "name": "python3"
  },
  "language_info": {
   "codemirror_mode": {
    "name": "ipython",
    "version": 3
   },
   "file_extension": ".py",
   "mimetype": "text/x-python",
   "name": "python",
   "nbconvert_exporter": "python",
   "pygments_lexer": "ipython3",
   "version": "3.6.4"
  }
 },
 "nbformat": 4,
 "nbformat_minor": 2
}
