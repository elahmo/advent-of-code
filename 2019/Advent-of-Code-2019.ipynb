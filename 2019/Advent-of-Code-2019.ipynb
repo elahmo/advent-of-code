{
 "cells": [
  {
   "cell_type": "markdown",
   "metadata": {},
   "source": [
    "# Advent of Code 2019\n",
    "\n",
    "This is a notebook of solutions for the [Advent of Code](http://adventofcode.com) for 2019. Each day will have a link to the problem description. Inputs are stored in the 'data' directory."
   ]
  },
  {
   "cell_type": "markdown",
   "metadata": {},
   "source": [
    "## Helper functions"
   ]
  },
  {
   "cell_type": "code",
   "execution_count": 2,
   "metadata": {},
   "outputs": [],
   "source": [
    "import os\n",
    "import urllib.request\n",
    "\n",
    "#adapted from from norvig/pytudes repository\n",
    "def input(day, year=2019):\n",
    "    \"\"\"Open this day's input file.\"\"\"\n",
    "    directory = 'input/'\n",
    "    filename = directory+'day{}.txt'.format(day)\n",
    "    try:\n",
    "        return open(filename)\n",
    "    except FileNotFoundError:\n",
    "        if not os.path.exists(directory):\n",
    "            os.makedirs(directory)\n",
    "\n",
    "        urllib.request.urlretrieve(\"https://raw.githubusercontent.com/elahmo/advent-of-code/master/2019/input/\" + filename, filename)\n",
    "        return input(day)\n",
    "\n",
    "def input_str(day, year=2019): \n",
    "    \"\"\"The contents of this day's input file as a str.\"\"\"\n",
    "    return input(day, year).read().rstrip('\\n')\n",
    "\n",
    "def input_list(day, year=2019):\n",
    "    lines = [line.rstrip('\\n') for line in input(day, year)]\n",
    "    return lines\n",
    "\n",
    "def input_csv(day, year=2019):\n",
    "    return [line.split(',') for line in input(day, year)]\n",
    "\n",
    "def map_tuple(fn, *args): \n",
    "    \"\"\"Do a map, and make the results into a tuple.\"\"\"\n",
    "    return tuple(map(fn, *args))"
   ]
  },
  {
   "cell_type": "markdown",
   "metadata": {},
   "source": [
    "## [Day 1](https://adventofcode.com/2019/day/1): The Tyranny of the Rocket Equation\n",
    "The first task is to find the fuel requirements for the modules. Fuel required to launch a given module is based on its mass. Specifically, to find the fuel required for a module, take its mass, divide by three, round down, and subtract 2."
   ]
  },
  {
   "cell_type": "code",
   "execution_count": 3,
   "metadata": {},
   "outputs": [
    {
     "name": "stdout",
     "output_type": "stream",
     "text": "Total is 3454026\n"
    }
   ],
   "source": [
    "modules = input_list(1)\n",
    "total = sum([int(x)//3-2 for x in modules])\n",
    "\n",
    "print(f'Total is {total}')"
   ]
  },
  {
   "cell_type": "markdown",
   "metadata": {},
   "source": [
    "### Part Two\n",
    "Well, the fuel for the modules is calculated, but we need fuel to transfer the fuel too. Interesting!"
   ]
  },
  {
   "cell_type": "code",
   "execution_count": 4,
   "metadata": {},
   "outputs": [
    {
     "name": "stdout",
     "output_type": "stream",
     "text": "Total is 5178170\n"
    }
   ],
   "source": [
    "def fuel_required(mass):\n",
    "    if mass < 9:\n",
    "        return 0\n",
    "    fuel = mass // 3 - 2\n",
    "    return fuel + fuel_required(fuel)\n",
    "\n",
    "modules = input_list(1)\n",
    "total = sum([fuel_required(int(x)) for x in modules])\n",
    "\n",
    "print(f'Total is {total}')"
   ]
  },
  {
   "cell_type": "markdown",
   "metadata": {},
   "source": [
    "**Comments**:\n",
    "- good warmup problem, first one is quite simple but it did require me to recall the integer division in Python3, math.floor is an alternative to `//`"
   ]
  },
  {
   "cell_type": "markdown",
   "metadata": {},
   "source": [
    "## [Day 2](https://adventofcode.com/2019/day/2): 1202 Program Alarm\n",
    "Today's task is to write a code for a new computer that will be able to parse instructions and perform calculations for gravitation assistance needs. Interesting! \n",
    "\n",
    "Instructions are in form of opcode (1 adds, 2 multiplies, 99 error), where addition and multiplication operate on values specified in the next two values."
   ]
  },
  {
   "cell_type": "code",
   "execution_count": 23,
   "metadata": {},
   "outputs": [],
   "source": [
    "op_codes = [int(x) for x in input_csv(2)[0]]"
   ]
  },
  {
   "cell_type": "code",
   "execution_count": 6,
   "metadata": {},
   "outputs": [
    {
     "data": {
      "text/plain": "2890696"
     },
     "execution_count": 6,
     "metadata": {},
     "output_type": "execute_result"
    }
   ],
   "source": [
    "op_codes = [int(x) for x in input_csv(2)[0]]\n",
    "op_codes[1] = 12\n",
    "op_codes[2] = 2\n",
    "def run_instructions(op_codes):\n",
    "    idx = 0\n",
    "    while True:\n",
    "        op, a, b, res = op_codes[idx:idx+4]\n",
    "        if op == 1:\n",
    "            op_codes[res] = op_codes[a] + op_codes[b]\n",
    "        elif op == 2:\n",
    "            op_codes[res] = op_codes[a] * op_codes[b]\n",
    "        elif op == 99:\n",
    "            break\n",
    "        idx += 4\n",
    "    return op_codes[0]\n",
    "run_instructions(op_codes)"
   ]
  },
  {
   "cell_type": "markdown",
   "metadata": {},
   "source": [
    "### Part Two"
   ]
  },
  {
   "cell_type": "code",
   "execution_count": 7,
   "metadata": {},
   "outputs": [
    {
     "name": "stdout",
     "output_type": "stream",
     "text": "82 26\n"
    }
   ],
   "source": [
    "memory = [int(x) for x in input_csv(2)[0]]\n",
    "for x in range(0,100):\n",
    "    for y in range(0,100):\n",
    "        ops = memory.copy()\n",
    "        ops[1] = x\n",
    "        ops[2] = y\n",
    "        if run_instructions(ops) == 19690720:\n",
    "            print(x,y)"
   ]
  },
  {
   "cell_type": "markdown",
   "metadata": {},
   "source": [
    "## [Day 3](https://adventofcode.com/2019/day/3): Crossed Wires\n",
    "Goal is to find the closest intersection between wires (using Manhattan distance). Input is the list of lengths in each directions wires take."
   ]
  },
  {
   "cell_type": "code",
   "execution_count": 83,
   "metadata": {},
   "outputs": [],
   "source": [
    "wire_one = [x for x in input_csv(3)[0]]\n",
    "wire_two = [x for x in input_csv(3)[1]]"
   ]
  },
  {
   "cell_type": "code",
   "execution_count": 90,
   "metadata": {},
   "outputs": [],
   "source": [
    "# contains the instructions for movements in the grid based on the instruction\n",
    "mappings = {\n",
    "    'R': (0, 1),\n",
    "    'L': (0, -1),\n",
    "    'U': (1, 0),\n",
    "    'D': (-1, 0),\n",
    "}\n",
    "def populate_grid_simple(instructions):\n",
    "    wire_grid = {}\n",
    "    x, y = 0, 0\n",
    "    for instruction in instructions:\n",
    "        d = instruction[0]\n",
    "        length = int(instruction[1:])\n",
    "        for i in range(length):\n",
    "            wire_grid[(x, y)] = 1\n",
    "            x += mappings[d][0]\n",
    "            y += mappings[d][1]\n",
    "    return wire_grid\n",
    "\n",
    "grid_one_simple = populate_grid_simple(wire_one)\n",
    "grid_two_simple = populate_grid_simple(wire_two)"
   ]
  },
  {
   "cell_type": "code",
   "execution_count": 88,
   "metadata": {},
   "outputs": [
    {
     "data": {
      "text/plain": "(0, 227)"
     },
     "execution_count": 88,
     "metadata": {},
     "output_type": "execute_result"
    }
   ],
   "source": [
    "from collections import Counter\n",
    "main_grid = Counter(grid_one_simple) + Counter(grid_two_simple)\n",
    "overlaps = [k for k,v in main_grid.items() if v == 2]\n",
    "\n",
    "def manhattan_distance(a, b):\n",
    "    return abs(a) + abs(b)\n",
    "\n",
    "lowest_distance = float('inf')\n",
    "lowest_overlap = None\n",
    "for overlap in overlaps[1:]:\n",
    "    if manhattan_distance(*overlap) < lowest_distance:\n",
    "        lowest_distance = manhattan_distance(*overlap)\n",
    "        lowest_overlap = overlap\n",
    "lowest_overlap"
   ]
  },
  {
   "cell_type": "markdown",
   "metadata": {},
   "source": [
    "### Part 2\n",
    "Now for distance, use the number of steps, rather than Manhattan distance.\n",
    "\n",
    "Instead of overcomplicating things in the initial function, I will just use a counter and store the value for the matching points, and use those to find the lowest amount."
   ]
  },
  {
   "cell_type": "code",
   "execution_count": 85,
   "metadata": {},
   "outputs": [],
   "source": [
    "def populate_grid(instructions):\n",
    "    wire_grid = {}\n",
    "    x, y, steps = 0, 0, 0\n",
    "    for instruction in instructions:\n",
    "        d = instruction[0]\n",
    "        length = int(instruction[1:])\n",
    "        for i in range(length):\n",
    "            current_steps = wire_grid.get((x, y), 0) or steps\n",
    "            wire_grid[(x, y)] = [1, current_steps]\n",
    "            x += mappings[d][0]\n",
    "            y += mappings[d][1]\n",
    "            steps += 1\n",
    "    return wire_grid\n",
    "grid_one = populate_grid(wire_one)\n",
    "grid_two = populate_grid(wire_two)"
   ]
  },
  {
   "cell_type": "code",
   "execution_count": 86,
   "metadata": {},
   "outputs": [],
   "source": [
    "from collections import Counter\n",
    "main_grid = Counter(grid_one_simple) + Counter(grid_two_simple)\n",
    "overlaps = [k for k,v in main_grid.items() if v == 2]"
   ]
  },
  {
   "cell_type": "code",
   "execution_count": 89,
   "metadata": {},
   "outputs": [
    {
     "data": {
      "text/plain": "20286"
     },
     "execution_count": 89,
     "metadata": {},
     "output_type": "execute_result"
    }
   ],
   "source": [
    "lowest_steps = float('inf')\n",
    "lowest_overlap = None\n",
    "for overlap in overlaps[1:]:\n",
    "    steps = grid_one[overlap][1] + grid_two[overlap][1]\n",
    "    if steps < lowest_steps:\n",
    "        lowest_steps = steps\n",
    "        lowest_overlap = overlap\n",
    "lowest_steps"
   ]
  },
  {
   "cell_type": "markdown",
   "metadata": {},
   "source": [
    "## [Day 4](https://adventofcode.com/2019/day/4): Secure container\n",
    "Time for some password hacking. For a given range, and a set of rules, find the number of possible password combinations."
   ]
  },
  {
   "cell_type": "code",
   "execution_count": 108,
   "metadata": {},
   "outputs": [],
   "source": [
    "from collections import Counter\n",
    "\n",
    "def get_digit(number, n):\n",
    "    return number // 10**n % 10\n",
    "\n",
    "def has_two(num):\n",
    "    return (\n",
    "        get_digit(num, 5) == get_digit(num, 4)\n",
    "        or get_digit(num, 4) == get_digit(num, 3)\n",
    "        or get_digit(num, 3) == get_digit(num, 2)\n",
    "        or get_digit(num, 2) == get_digit(num, 1)\n",
    "        or get_digit(num, 1) == get_digit(num, 0)\n",
    "    ) and (\n",
    "        # part two modification\n",
    "        2 in Counter(str(num)).values()\n",
    "    )\n",
    "\n",
    "def is_increasing(num):\n",
    "    return (\n",
    "        get_digit(num, 5) <= get_digit(num, 4)\n",
    "        and get_digit(num, 4) <= get_digit(num, 3)\n",
    "        and get_digit(num, 3) <= get_digit(num, 2)\n",
    "        and get_digit(num, 2) <= get_digit(num, 1)\n",
    "        and get_digit(num, 1) <= get_digit(num, 0)\n",
    "    )\n",
    "\n",
    "low, high = 240298, 784956\n",
    "\n",
    "possible_pass = []\n",
    "\n",
    "for x in range(low, high):\n",
    "    if has_two(x) and is_increasing(x):\n",
    "        possible_pass.append(x)"
   ]
  },
  {
   "cell_type": "code",
   "execution_count": 109,
   "metadata": {},
   "outputs": [
    {
     "data": {
      "text/plain": "748"
     },
     "execution_count": 109,
     "metadata": {},
     "output_type": "execute_result"
    }
   ],
   "source": [
    "len(possible_pass)"
   ]
  },
  {
   "cell_type": "code",
   "execution_count": null,
   "metadata": {},
   "outputs": [],
   "source": []
  }
 ],
 "metadata": {
  "kernelspec": {
   "display_name": "Python 3",
   "language": "python",
   "name": "python3"
  },
  "language_info": {
   "codemirror_mode": {
    "name": "ipython",
    "version": 3
   },
   "file_extension": ".py",
   "mimetype": "text/x-python",
   "name": "python",
   "nbconvert_exporter": "python",
   "pygments_lexer": "ipython3",
   "version": "3.7.4"
  }
 },
 "nbformat": 4,
 "nbformat_minor": 2
}